{
 "cells": [
  {
   "cell_type": "markdown",
   "metadata": {},
   "source": [
    "AWS ML Models\n",
    "1. Binary Classification: predicts only two outcomes\n",
    "2. Multiclass Classification: predictions can be in multiple classes or bins\n",
    "3. Regression: predicts a numeric value"
   ]
  }
 ],
 "metadata": {
  "kernelspec": {
   "display_name": "Python 3",
   "language": "python",
   "name": "python3"
  },
  "language_info": {
   "codemirror_mode": {
    "name": "ipython",
    "version": 3
   },
   "file_extension": ".py",
   "mimetype": "text/x-python",
   "name": "python",
   "nbconvert_exporter": "python",
   "pygments_lexer": "ipython3",
   "version": "3.7.3"
  }
 },
 "nbformat": 4,
 "nbformat_minor": 2
}
